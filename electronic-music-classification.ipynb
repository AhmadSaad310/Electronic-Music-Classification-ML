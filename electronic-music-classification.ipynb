{
 "cells": [
  {
   "cell_type": "code",
   "execution_count": 1,
   "id": "153aa910",
   "metadata": {
    "_cell_guid": "b1076dfc-b9ad-4769-8c92-a6c4dae69d19",
    "_uuid": "8f2839f25d086af736a60e9eeb907d3b93b6e0e5",
    "execution": {
     "iopub.execute_input": "2024-09-10T17:01:00.682465Z",
     "iopub.status.busy": "2024-09-10T17:01:00.681601Z",
     "iopub.status.idle": "2024-09-10T17:01:01.153722Z",
     "shell.execute_reply": "2024-09-10T17:01:01.152496Z"
    },
    "papermill": {
     "duration": 0.486652,
     "end_time": "2024-09-10T17:01:01.156674",
     "exception": false,
     "start_time": "2024-09-10T17:01:00.670022",
     "status": "completed"
    },
    "tags": []
   },
   "outputs": [
    {
     "name": "stdout",
     "output_type": "stream",
     "text": [
      "/kaggle/input/beatsdataset/beatsdataset.csv\n"
     ]
    }
   ],
   "source": [
    "# This Python 3 environment comes with many helpful analytics libraries installed\n",
    "# It is defined by the kaggle/python Docker image: https://github.com/kaggle/docker-python\n",
    "# For example, here's several helpful packages to load\n",
    "\n",
    "import numpy as np # linear algebra\n",
    "import pandas as pd # data processing, CSV file I/O (e.g. pd.read_csv)\n",
    "\n",
    "# Input data files are available in the read-only \"../input/\" directory\n",
    "# For example, running this (by clicking run or pressing Shift+Enter) will list all files under the input directory\n",
    "\n",
    "import os\n",
    "for dirname, _, filenames in os.walk('/kaggle/input'):\n",
    "    for filename in filenames:\n",
    "        print(os.path.join(dirname, filename))\n",
    "\n",
    "# You can write up to 20GB to the current directory (/kaggle/working/) that gets preserved as output when you create a version using \"Save & Run All\" \n",
    "# You can also write temporary files to /kaggle/temp/, but they won't be saved outside of the current session"
   ]
  },
  {
   "cell_type": "markdown",
   "id": "192d3dd5",
   "metadata": {
    "papermill": {
     "duration": 0.008789,
     "end_time": "2024-09-10T17:01:01.174903",
     "exception": false,
     "start_time": "2024-09-10T17:01:01.166114",
     "status": "completed"
    },
    "tags": []
   },
   "source": [
    "## 1_Electronic Music Classification"
   ]
  },
  {
   "cell_type": "markdown",
   "id": "d2c0f45f",
   "metadata": {
    "papermill": {
     "duration": 0.008802,
     "end_time": "2024-09-10T17:01:01.192863",
     "exception": false,
     "start_time": "2024-09-10T17:01:01.184061",
     "status": "completed"
    },
    "tags": []
   },
   "source": [
    "![](https://th.bing.com/th/id/R.8838fba0665a1cf1d2c75d467bebf00b?rik=hPhrvym3sR3tlA&riu=http%3a%2f%2fdancemusicnw.com%2fwp-content%2fuploads%2f2017%2f03%2fElectronic_Music_Guide-1-e1489713866135.jpg&ehk=lhSpq6zycDTOHop4ApjmGOvA3MTqYQ2m%2b06C7PbY6%2bE%3d&risl=&pid=ImgRaw&r=0.png)"
   ]
  },
  {
   "cell_type": "markdown",
   "id": "176267a3",
   "metadata": {
    "papermill": {
     "duration": 0.009491,
     "end_time": "2024-09-10T17:01:01.211459",
     "exception": false,
     "start_time": "2024-09-10T17:01:01.201968",
     "status": "completed"
    },
    "tags": []
   },
   "source": [
    "## 2_ About the dataset\n",
    "- One of the fascinating aspects of human perception is our ability to distinguish between different music genres. Whether it's classical, rock, jazz, or hip-hop, we can often tell them apart within seconds of listening. But what makes this possible? How do we instinctively recognize the characteristics that define a genre, like rhythm, melody, instrumentation, or tempo?"
   ]
  },
  {
   "cell_type": "markdown",
   "id": "8cb57738",
   "metadata": {
    "papermill": {
     "duration": 0.008701,
     "end_time": "2024-09-10T17:01:01.229410",
     "exception": false,
     "start_time": "2024-09-10T17:01:01.220709",
     "status": "completed"
    },
    "tags": []
   },
   "source": [
    "## 3_ Import our libraries that we need it in this notebook"
   ]
  },
  {
   "cell_type": "code",
   "execution_count": 2,
   "id": "e004890f",
   "metadata": {
    "execution": {
     "iopub.execute_input": "2024-09-10T17:01:01.250038Z",
     "iopub.status.busy": "2024-09-10T17:01:01.248925Z",
     "iopub.status.idle": "2024-09-10T17:01:03.113054Z",
     "shell.execute_reply": "2024-09-10T17:01:03.111449Z"
    },
    "papermill": {
     "duration": 1.877638,
     "end_time": "2024-09-10T17:01:03.116132",
     "exception": false,
     "start_time": "2024-09-10T17:01:01.238494",
     "status": "completed"
    },
    "tags": []
   },
   "outputs": [],
   "source": [
    "import pandas as pd\n",
    "from sklearn import tree\n",
    "import matplotlib.pyplot as plt\n",
    "from sklearn.preprocessing import LabelEncoder\n",
    "from sklearn.neighbors import KNeighborsClassifier\n",
    "from sklearn.model_selection import train_test_split\n",
    "from sklearn.compose import ColumnTransformer\n",
    "from sklearn.preprocessing import OneHotEncoder"
   ]
  },
  {
   "cell_type": "markdown",
   "id": "55715bcc",
   "metadata": {
    "papermill": {
     "duration": 0.009199,
     "end_time": "2024-09-10T17:01:03.135713",
     "exception": false,
     "start_time": "2024-09-10T17:01:03.126514",
     "status": "completed"
    },
    "tags": []
   },
   "source": [
    "## 4_Export our dataset from CSV link"
   ]
  },
  {
   "cell_type": "code",
   "execution_count": 3,
   "id": "c309322b",
   "metadata": {
    "execution": {
     "iopub.execute_input": "2024-09-10T17:01:03.155752Z",
     "iopub.status.busy": "2024-09-10T17:01:03.155188Z",
     "iopub.status.idle": "2024-09-10T17:01:03.351662Z",
     "shell.execute_reply": "2024-09-10T17:01:03.350288Z"
    },
    "papermill": {
     "duration": 0.209615,
     "end_time": "2024-09-10T17:01:03.354400",
     "exception": false,
     "start_time": "2024-09-10T17:01:03.144785",
     "status": "completed"
    },
    "tags": []
   },
   "outputs": [
    {
     "data": {
      "text/html": [
       "<div>\n",
       "<style scoped>\n",
       "    .dataframe tbody tr th:only-of-type {\n",
       "        vertical-align: middle;\n",
       "    }\n",
       "\n",
       "    .dataframe tbody tr th {\n",
       "        vertical-align: top;\n",
       "    }\n",
       "\n",
       "    .dataframe thead th {\n",
       "        text-align: right;\n",
       "    }\n",
       "</style>\n",
       "<table border=\"1\" class=\"dataframe\">\n",
       "  <thead>\n",
       "    <tr style=\"text-align: right;\">\n",
       "      <th></th>\n",
       "      <th>Unnamed: 0</th>\n",
       "      <th>1-ZCRm</th>\n",
       "      <th>2-Energym</th>\n",
       "      <th>3-EnergyEntropym</th>\n",
       "      <th>4-SpectralCentroidm</th>\n",
       "      <th>5-SpectralSpreadm</th>\n",
       "      <th>6-SpectralEntropym</th>\n",
       "      <th>7-SpectralFluxm</th>\n",
       "      <th>8-SpectralRolloffm</th>\n",
       "      <th>9-MFCCs1m</th>\n",
       "      <th>...</th>\n",
       "      <th>63-ChromaVector8std</th>\n",
       "      <th>64-ChromaVector9std</th>\n",
       "      <th>65-ChromaVector10std</th>\n",
       "      <th>66-ChromaVector11std</th>\n",
       "      <th>67-ChromaVector12std</th>\n",
       "      <th>68-ChromaDeviationstd</th>\n",
       "      <th>69-BPM</th>\n",
       "      <th>70-BPMconf</th>\n",
       "      <th>71-BPMessentia</th>\n",
       "      <th>class</th>\n",
       "    </tr>\n",
       "  </thead>\n",
       "  <tbody>\n",
       "    <tr>\n",
       "      <th>0</th>\n",
       "      <td>0</td>\n",
       "      <td>0.136440</td>\n",
       "      <td>0.088861</td>\n",
       "      <td>3.201201</td>\n",
       "      <td>0.262825</td>\n",
       "      <td>0.249212</td>\n",
       "      <td>1.114423</td>\n",
       "      <td>0.007003</td>\n",
       "      <td>0.256682</td>\n",
       "      <td>-22.723259</td>\n",
       "      <td>...</td>\n",
       "      <td>0.003431</td>\n",
       "      <td>0.004981</td>\n",
       "      <td>0.010818</td>\n",
       "      <td>0.024001</td>\n",
       "      <td>0.005201</td>\n",
       "      <td>0.015056</td>\n",
       "      <td>133.333333</td>\n",
       "      <td>0.132792</td>\n",
       "      <td>128.0</td>\n",
       "      <td>BigRoom</td>\n",
       "    </tr>\n",
       "    <tr>\n",
       "      <th>1</th>\n",
       "      <td>1</td>\n",
       "      <td>0.117039</td>\n",
       "      <td>0.108389</td>\n",
       "      <td>3.194001</td>\n",
       "      <td>0.247657</td>\n",
       "      <td>0.250288</td>\n",
       "      <td>1.065668</td>\n",
       "      <td>0.005387</td>\n",
       "      <td>0.199821</td>\n",
       "      <td>-21.775871</td>\n",
       "      <td>...</td>\n",
       "      <td>0.004461</td>\n",
       "      <td>0.006441</td>\n",
       "      <td>0.007469</td>\n",
       "      <td>0.015499</td>\n",
       "      <td>0.005589</td>\n",
       "      <td>0.019339</td>\n",
       "      <td>120.000000</td>\n",
       "      <td>0.112767</td>\n",
       "      <td>126.0</td>\n",
       "      <td>BigRoom</td>\n",
       "    </tr>\n",
       "    <tr>\n",
       "      <th>2</th>\n",
       "      <td>2</td>\n",
       "      <td>0.085308</td>\n",
       "      <td>0.128525</td>\n",
       "      <td>3.123837</td>\n",
       "      <td>0.217205</td>\n",
       "      <td>0.228652</td>\n",
       "      <td>0.789647</td>\n",
       "      <td>0.008247</td>\n",
       "      <td>0.156822</td>\n",
       "      <td>-22.472722</td>\n",
       "      <td>...</td>\n",
       "      <td>0.001529</td>\n",
       "      <td>0.004556</td>\n",
       "      <td>0.007723</td>\n",
       "      <td>0.017482</td>\n",
       "      <td>0.002901</td>\n",
       "      <td>0.022201</td>\n",
       "      <td>133.333333</td>\n",
       "      <td>0.123373</td>\n",
       "      <td>129.0</td>\n",
       "      <td>BigRoom</td>\n",
       "    </tr>\n",
       "    <tr>\n",
       "      <th>3</th>\n",
       "      <td>3</td>\n",
       "      <td>0.103050</td>\n",
       "      <td>0.167042</td>\n",
       "      <td>3.150830</td>\n",
       "      <td>0.233593</td>\n",
       "      <td>0.245032</td>\n",
       "      <td>0.967082</td>\n",
       "      <td>0.006571</td>\n",
       "      <td>0.168083</td>\n",
       "      <td>-21.470751</td>\n",
       "      <td>...</td>\n",
       "      <td>0.001591</td>\n",
       "      <td>0.003514</td>\n",
       "      <td>0.009477</td>\n",
       "      <td>0.023162</td>\n",
       "      <td>0.004165</td>\n",
       "      <td>0.015379</td>\n",
       "      <td>133.333333</td>\n",
       "      <td>0.158876</td>\n",
       "      <td>129.0</td>\n",
       "      <td>BigRoom</td>\n",
       "    </tr>\n",
       "    <tr>\n",
       "      <th>4</th>\n",
       "      <td>4</td>\n",
       "      <td>0.151730</td>\n",
       "      <td>0.148405</td>\n",
       "      <td>3.194498</td>\n",
       "      <td>0.293730</td>\n",
       "      <td>0.267231</td>\n",
       "      <td>1.353005</td>\n",
       "      <td>0.003872</td>\n",
       "      <td>0.292055</td>\n",
       "      <td>-21.371157</td>\n",
       "      <td>...</td>\n",
       "      <td>0.003945</td>\n",
       "      <td>0.004131</td>\n",
       "      <td>0.011330</td>\n",
       "      <td>0.028188</td>\n",
       "      <td>0.002639</td>\n",
       "      <td>0.019079</td>\n",
       "      <td>133.333333</td>\n",
       "      <td>0.190708</td>\n",
       "      <td>129.0</td>\n",
       "      <td>BigRoom</td>\n",
       "    </tr>\n",
       "    <tr>\n",
       "      <th>...</th>\n",
       "      <td>...</td>\n",
       "      <td>...</td>\n",
       "      <td>...</td>\n",
       "      <td>...</td>\n",
       "      <td>...</td>\n",
       "      <td>...</td>\n",
       "      <td>...</td>\n",
       "      <td>...</td>\n",
       "      <td>...</td>\n",
       "      <td>...</td>\n",
       "      <td>...</td>\n",
       "      <td>...</td>\n",
       "      <td>...</td>\n",
       "      <td>...</td>\n",
       "      <td>...</td>\n",
       "      <td>...</td>\n",
       "      <td>...</td>\n",
       "      <td>...</td>\n",
       "      <td>...</td>\n",
       "      <td>...</td>\n",
       "      <td>...</td>\n",
       "    </tr>\n",
       "    <tr>\n",
       "      <th>2295</th>\n",
       "      <td>2295</td>\n",
       "      <td>0.123267</td>\n",
       "      <td>0.057100</td>\n",
       "      <td>3.208952</td>\n",
       "      <td>0.256296</td>\n",
       "      <td>0.251077</td>\n",
       "      <td>1.154926</td>\n",
       "      <td>0.005292</td>\n",
       "      <td>0.224646</td>\n",
       "      <td>-22.367698</td>\n",
       "      <td>...</td>\n",
       "      <td>0.003534</td>\n",
       "      <td>0.004703</td>\n",
       "      <td>0.010987</td>\n",
       "      <td>0.032269</td>\n",
       "      <td>0.001926</td>\n",
       "      <td>0.016028</td>\n",
       "      <td>133.333333</td>\n",
       "      <td>0.210512</td>\n",
       "      <td>138.0</td>\n",
       "      <td>Trance</td>\n",
       "    </tr>\n",
       "    <tr>\n",
       "      <th>2296</th>\n",
       "      <td>2296</td>\n",
       "      <td>0.142276</td>\n",
       "      <td>0.092951</td>\n",
       "      <td>3.115607</td>\n",
       "      <td>0.264407</td>\n",
       "      <td>0.255826</td>\n",
       "      <td>1.210942</td>\n",
       "      <td>0.010418</td>\n",
       "      <td>0.265019</td>\n",
       "      <td>-22.393598</td>\n",
       "      <td>...</td>\n",
       "      <td>0.002769</td>\n",
       "      <td>0.005422</td>\n",
       "      <td>0.008997</td>\n",
       "      <td>0.027547</td>\n",
       "      <td>0.003881</td>\n",
       "      <td>0.016097</td>\n",
       "      <td>133.333333</td>\n",
       "      <td>0.186191</td>\n",
       "      <td>141.0</td>\n",
       "      <td>Trance</td>\n",
       "    </tr>\n",
       "    <tr>\n",
       "      <th>2297</th>\n",
       "      <td>2297</td>\n",
       "      <td>0.125569</td>\n",
       "      <td>0.030196</td>\n",
       "      <td>3.192922</td>\n",
       "      <td>0.224583</td>\n",
       "      <td>0.216269</td>\n",
       "      <td>1.031649</td>\n",
       "      <td>0.004061</td>\n",
       "      <td>0.258191</td>\n",
       "      <td>-23.505045</td>\n",
       "      <td>...</td>\n",
       "      <td>0.003643</td>\n",
       "      <td>0.005395</td>\n",
       "      <td>0.005646</td>\n",
       "      <td>0.014202</td>\n",
       "      <td>0.004689</td>\n",
       "      <td>0.009465</td>\n",
       "      <td>600.000000</td>\n",
       "      <td>0.142741</td>\n",
       "      <td>92.0</td>\n",
       "      <td>Trance</td>\n",
       "    </tr>\n",
       "    <tr>\n",
       "      <th>2298</th>\n",
       "      <td>2298</td>\n",
       "      <td>0.118206</td>\n",
       "      <td>0.108737</td>\n",
       "      <td>3.149557</td>\n",
       "      <td>0.253396</td>\n",
       "      <td>0.246574</td>\n",
       "      <td>1.066546</td>\n",
       "      <td>0.008032</td>\n",
       "      <td>0.200640</td>\n",
       "      <td>-22.203477</td>\n",
       "      <td>...</td>\n",
       "      <td>0.001375</td>\n",
       "      <td>0.003538</td>\n",
       "      <td>0.006213</td>\n",
       "      <td>0.035527</td>\n",
       "      <td>0.001729</td>\n",
       "      <td>0.020659</td>\n",
       "      <td>133.333333</td>\n",
       "      <td>0.232040</td>\n",
       "      <td>133.0</td>\n",
       "      <td>Trance</td>\n",
       "    </tr>\n",
       "    <tr>\n",
       "      <th>2299</th>\n",
       "      <td>2299</td>\n",
       "      <td>0.157383</td>\n",
       "      <td>0.055200</td>\n",
       "      <td>3.227855</td>\n",
       "      <td>0.281148</td>\n",
       "      <td>0.252258</td>\n",
       "      <td>1.353920</td>\n",
       "      <td>0.004514</td>\n",
       "      <td>0.320167</td>\n",
       "      <td>-22.854698</td>\n",
       "      <td>...</td>\n",
       "      <td>0.000938</td>\n",
       "      <td>0.003913</td>\n",
       "      <td>0.010708</td>\n",
       "      <td>0.031015</td>\n",
       "      <td>0.003742</td>\n",
       "      <td>0.011990</td>\n",
       "      <td>133.333333</td>\n",
       "      <td>0.140143</td>\n",
       "      <td>140.0</td>\n",
       "      <td>Trance</td>\n",
       "    </tr>\n",
       "  </tbody>\n",
       "</table>\n",
       "<p>2300 rows × 73 columns</p>\n",
       "</div>"
      ],
      "text/plain": [
       "      Unnamed: 0    1-ZCRm  2-Energym  3-EnergyEntropym  4-SpectralCentroidm  \\\n",
       "0              0  0.136440   0.088861          3.201201             0.262825   \n",
       "1              1  0.117039   0.108389          3.194001             0.247657   \n",
       "2              2  0.085308   0.128525          3.123837             0.217205   \n",
       "3              3  0.103050   0.167042          3.150830             0.233593   \n",
       "4              4  0.151730   0.148405          3.194498             0.293730   \n",
       "...          ...       ...        ...               ...                  ...   \n",
       "2295        2295  0.123267   0.057100          3.208952             0.256296   \n",
       "2296        2296  0.142276   0.092951          3.115607             0.264407   \n",
       "2297        2297  0.125569   0.030196          3.192922             0.224583   \n",
       "2298        2298  0.118206   0.108737          3.149557             0.253396   \n",
       "2299        2299  0.157383   0.055200          3.227855             0.281148   \n",
       "\n",
       "      5-SpectralSpreadm  6-SpectralEntropym  7-SpectralFluxm  \\\n",
       "0              0.249212            1.114423         0.007003   \n",
       "1              0.250288            1.065668         0.005387   \n",
       "2              0.228652            0.789647         0.008247   \n",
       "3              0.245032            0.967082         0.006571   \n",
       "4              0.267231            1.353005         0.003872   \n",
       "...                 ...                 ...              ...   \n",
       "2295           0.251077            1.154926         0.005292   \n",
       "2296           0.255826            1.210942         0.010418   \n",
       "2297           0.216269            1.031649         0.004061   \n",
       "2298           0.246574            1.066546         0.008032   \n",
       "2299           0.252258            1.353920         0.004514   \n",
       "\n",
       "      8-SpectralRolloffm  9-MFCCs1m  ...  63-ChromaVector8std  \\\n",
       "0               0.256682 -22.723259  ...             0.003431   \n",
       "1               0.199821 -21.775871  ...             0.004461   \n",
       "2               0.156822 -22.472722  ...             0.001529   \n",
       "3               0.168083 -21.470751  ...             0.001591   \n",
       "4               0.292055 -21.371157  ...             0.003945   \n",
       "...                  ...        ...  ...                  ...   \n",
       "2295            0.224646 -22.367698  ...             0.003534   \n",
       "2296            0.265019 -22.393598  ...             0.002769   \n",
       "2297            0.258191 -23.505045  ...             0.003643   \n",
       "2298            0.200640 -22.203477  ...             0.001375   \n",
       "2299            0.320167 -22.854698  ...             0.000938   \n",
       "\n",
       "      64-ChromaVector9std  65-ChromaVector10std  66-ChromaVector11std  \\\n",
       "0                0.004981              0.010818              0.024001   \n",
       "1                0.006441              0.007469              0.015499   \n",
       "2                0.004556              0.007723              0.017482   \n",
       "3                0.003514              0.009477              0.023162   \n",
       "4                0.004131              0.011330              0.028188   \n",
       "...                   ...                   ...                   ...   \n",
       "2295             0.004703              0.010987              0.032269   \n",
       "2296             0.005422              0.008997              0.027547   \n",
       "2297             0.005395              0.005646              0.014202   \n",
       "2298             0.003538              0.006213              0.035527   \n",
       "2299             0.003913              0.010708              0.031015   \n",
       "\n",
       "      67-ChromaVector12std  68-ChromaDeviationstd      69-BPM  70-BPMconf  \\\n",
       "0                 0.005201               0.015056  133.333333    0.132792   \n",
       "1                 0.005589               0.019339  120.000000    0.112767   \n",
       "2                 0.002901               0.022201  133.333333    0.123373   \n",
       "3                 0.004165               0.015379  133.333333    0.158876   \n",
       "4                 0.002639               0.019079  133.333333    0.190708   \n",
       "...                    ...                    ...         ...         ...   \n",
       "2295              0.001926               0.016028  133.333333    0.210512   \n",
       "2296              0.003881               0.016097  133.333333    0.186191   \n",
       "2297              0.004689               0.009465  600.000000    0.142741   \n",
       "2298              0.001729               0.020659  133.333333    0.232040   \n",
       "2299              0.003742               0.011990  133.333333    0.140143   \n",
       "\n",
       "      71-BPMessentia    class  \n",
       "0              128.0  BigRoom  \n",
       "1              126.0  BigRoom  \n",
       "2              129.0  BigRoom  \n",
       "3              129.0  BigRoom  \n",
       "4              129.0  BigRoom  \n",
       "...              ...      ...  \n",
       "2295           138.0   Trance  \n",
       "2296           141.0   Trance  \n",
       "2297            92.0   Trance  \n",
       "2298           133.0   Trance  \n",
       "2299           140.0   Trance  \n",
       "\n",
       "[2300 rows x 73 columns]"
      ]
     },
     "execution_count": 3,
     "metadata": {},
     "output_type": "execute_result"
    }
   ],
   "source": [
    "df = pd.read_csv('/kaggle/input/beatsdataset/beatsdataset.csv')\n",
    "df"
   ]
  },
  {
   "cell_type": "markdown",
   "id": "523ed54a",
   "metadata": {
    "papermill": {
     "duration": 0.009732,
     "end_time": "2024-09-10T17:01:03.374585",
     "exception": false,
     "start_time": "2024-09-10T17:01:03.364853",
     "status": "completed"
    },
    "tags": []
   },
   "source": [
    "- After we are export the dataset from CSV we find that we have 2300 rows and 73 columns and our targit here is the column 'class'"
   ]
  },
  {
   "cell_type": "markdown",
   "id": "3a39f3d3",
   "metadata": {
    "papermill": {
     "duration": 0.009664,
     "end_time": "2024-09-10T17:01:03.395189",
     "exception": false,
     "start_time": "2024-09-10T17:01:03.385525",
     "status": "completed"
    },
    "tags": []
   },
   "source": [
    "- So we need to checking our dataset if there are any columns need to convert it to numeric values that we need it in our working"
   ]
  },
  {
   "cell_type": "markdown",
   "id": "31b3799c",
   "metadata": {
    "papermill": {
     "duration": 0.009449,
     "end_time": "2024-09-10T17:01:03.414369",
     "exception": false,
     "start_time": "2024-09-10T17:01:03.404920",
     "status": "completed"
    },
    "tags": []
   },
   "source": [
    "## 5_Information type dataset"
   ]
  },
  {
   "cell_type": "code",
   "execution_count": 4,
   "id": "591c315d",
   "metadata": {
    "execution": {
     "iopub.execute_input": "2024-09-10T17:01:03.436290Z",
     "iopub.status.busy": "2024-09-10T17:01:03.435781Z",
     "iopub.status.idle": "2024-09-10T17:01:03.467547Z",
     "shell.execute_reply": "2024-09-10T17:01:03.465367Z"
    },
    "papermill": {
     "duration": 0.046265,
     "end_time": "2024-09-10T17:01:03.470405",
     "exception": false,
     "start_time": "2024-09-10T17:01:03.424140",
     "status": "completed"
    },
    "tags": []
   },
   "outputs": [
    {
     "name": "stdout",
     "output_type": "stream",
     "text": [
      "<class 'pandas.core.frame.DataFrame'>\n",
      "RangeIndex: 2300 entries, 0 to 2299\n",
      "Data columns (total 73 columns):\n",
      " #   Column                  Non-Null Count  Dtype  \n",
      "---  ------                  --------------  -----  \n",
      " 0   Unnamed: 0              2300 non-null   int64  \n",
      " 1   1-ZCRm                  2300 non-null   float64\n",
      " 2   2-Energym               2300 non-null   float64\n",
      " 3   3-EnergyEntropym        2300 non-null   float64\n",
      " 4   4-SpectralCentroidm     2300 non-null   float64\n",
      " 5   5-SpectralSpreadm       2300 non-null   float64\n",
      " 6   6-SpectralEntropym      2300 non-null   float64\n",
      " 7   7-SpectralFluxm         2300 non-null   float64\n",
      " 8   8-SpectralRolloffm      2300 non-null   float64\n",
      " 9   9-MFCCs1m               2300 non-null   float64\n",
      " 10  10-MFCCs2m              2300 non-null   float64\n",
      " 11  11-MFCCs3m              2300 non-null   float64\n",
      " 12  12-MFCCs4m              2300 non-null   float64\n",
      " 13  13-MFCCs5m              2300 non-null   float64\n",
      " 14  14-MFCCs6m              2300 non-null   float64\n",
      " 15  15-MFCCs7m              2300 non-null   float64\n",
      " 16  16-MFCCs8m              2300 non-null   float64\n",
      " 17  17-MFCCs9m              2300 non-null   float64\n",
      " 18  18-MFCCs10m             2300 non-null   float64\n",
      " 19  19-MFCCs11m             2300 non-null   float64\n",
      " 20  20-MFCCs12m             2300 non-null   float64\n",
      " 21  21-MFCCs13m             2300 non-null   float64\n",
      " 22  22-ChromaVector1m       2300 non-null   float64\n",
      " 23  23-ChromaVector2m       2300 non-null   float64\n",
      " 24  24-ChromaVector3m       2300 non-null   float64\n",
      " 25  25-ChromaVector4m       2300 non-null   float64\n",
      " 26  26-ChromaVector5m       2300 non-null   float64\n",
      " 27  27-ChromaVector6m       2300 non-null   float64\n",
      " 28  28-ChromaVector7m       2300 non-null   float64\n",
      " 29  29-ChromaVector8m       2300 non-null   float64\n",
      " 30  30-ChromaVector9m       2300 non-null   float64\n",
      " 31  31-ChromaVector10m      2300 non-null   float64\n",
      " 32  32-ChromaVector11m      2300 non-null   float64\n",
      " 33  33-ChromaVector12m      2300 non-null   float64\n",
      " 34  34-ChromaDeviationm     2300 non-null   float64\n",
      " 35  35-ZCRstd               2300 non-null   float64\n",
      " 36  36-Energystd            2300 non-null   float64\n",
      " 37  37-EnergyEntropystd     2300 non-null   float64\n",
      " 38  38-SpectralCentroidstd  2300 non-null   float64\n",
      " 39  39-SpectralSpreadstd    2300 non-null   float64\n",
      " 40  40-SpectralEntropystd   2300 non-null   float64\n",
      " 41  41-SpectralFluxstd      2300 non-null   float64\n",
      " 42  42-SpectralRolloffstd   2300 non-null   float64\n",
      " 43  43-MFCCs1std            2300 non-null   float64\n",
      " 44  44-MFCCs2std            2300 non-null   float64\n",
      " 45  45-MFCCs3std            2300 non-null   float64\n",
      " 46  46-MFCCs4std            2300 non-null   float64\n",
      " 47  47-MFCCs5std            2300 non-null   float64\n",
      " 48  48-MFCCs6std            2300 non-null   float64\n",
      " 49  49-MFCCs7std            2300 non-null   float64\n",
      " 50  50-MFCCs8std            2300 non-null   float64\n",
      " 51  51-MFCCs9std            2300 non-null   float64\n",
      " 52  52-MFCCs10std           2300 non-null   float64\n",
      " 53  53-MFCCs11std           2300 non-null   float64\n",
      " 54  54-MFCCs12std           2300 non-null   float64\n",
      " 55  55-MFCCs13std           2300 non-null   float64\n",
      " 56  56-ChromaVector1std     2300 non-null   float64\n",
      " 57  57-ChromaVector2std     2300 non-null   float64\n",
      " 58  58-ChromaVector3std     2300 non-null   float64\n",
      " 59  59-ChromaVector4std     2300 non-null   float64\n",
      " 60  60-ChromaVector5std     2300 non-null   float64\n",
      " 61  61-ChromaVector6std     2300 non-null   float64\n",
      " 62  62-ChromaVector7std     2300 non-null   float64\n",
      " 63  63-ChromaVector8std     2300 non-null   float64\n",
      " 64  64-ChromaVector9std     2300 non-null   float64\n",
      " 65  65-ChromaVector10std    2300 non-null   float64\n",
      " 66  66-ChromaVector11std    2300 non-null   float64\n",
      " 67  67-ChromaVector12std    2300 non-null   float64\n",
      " 68  68-ChromaDeviationstd   2300 non-null   float64\n",
      " 69  69-BPM                  2300 non-null   float64\n",
      " 70  70-BPMconf              2300 non-null   float64\n",
      " 71  71-BPMessentia          2300 non-null   float64\n",
      " 72  class                   2300 non-null   object \n",
      "dtypes: float64(71), int64(1), object(1)\n",
      "memory usage: 1.3+ MB\n"
     ]
    }
   ],
   "source": [
    "df.info()\n"
   ]
  },
  {
   "cell_type": "markdown",
   "id": "09732b32",
   "metadata": {
    "papermill": {
     "duration": 0.009706,
     "end_time": "2024-09-10T17:01:03.490513",
     "exception": false,
     "start_time": "2024-09-10T17:01:03.480807",
     "status": "completed"
    },
    "tags": []
   },
   "source": [
    "- If we noticed here in our dataset we find only we must covert one column to numeric values it is 'calss'"
   ]
  },
  {
   "cell_type": "markdown",
   "id": "e6485198",
   "metadata": {
    "papermill": {
     "duration": 0.010619,
     "end_time": "2024-09-10T17:01:03.511325",
     "exception": false,
     "start_time": "2024-09-10T17:01:03.500706",
     "status": "completed"
    },
    "tags": []
   },
   "source": [
    "## 6_Export the values for this column"
   ]
  },
  {
   "cell_type": "code",
   "execution_count": 5,
   "id": "7487e01b",
   "metadata": {
    "execution": {
     "iopub.execute_input": "2024-09-10T17:01:03.533269Z",
     "iopub.status.busy": "2024-09-10T17:01:03.532797Z",
     "iopub.status.idle": "2024-09-10T17:01:03.543209Z",
     "shell.execute_reply": "2024-09-10T17:01:03.541858Z"
    },
    "papermill": {
     "duration": 0.024407,
     "end_time": "2024-09-10T17:01:03.545767",
     "exception": false,
     "start_time": "2024-09-10T17:01:03.521360",
     "status": "completed"
    },
    "tags": []
   },
   "outputs": [
    {
     "data": {
      "text/plain": [
       "class\n",
       "BigRoom                 100\n",
       "HardDance               100\n",
       "Techno                  100\n",
       "TechHouse               100\n",
       "ReggaeDub               100\n",
       "PsyTrance               100\n",
       "ProgressiveHouse        100\n",
       "Minimal                 100\n",
       "IndieDanceNuDisco       100\n",
       "House                   100\n",
       "HipHop                  100\n",
       "HardcoreHardTechno      100\n",
       "Breaks                  100\n",
       "GlitchHop               100\n",
       "FutureHouse             100\n",
       "FunkRAndB               100\n",
       "ElectronicaDowntempo    100\n",
       "ElectroHouse            100\n",
       "Dubstep                 100\n",
       "DrumAndBass             100\n",
       "DeepHouse               100\n",
       "Dance                   100\n",
       "Trance                  100\n",
       "Name: count, dtype: int64"
      ]
     },
     "execution_count": 5,
     "metadata": {},
     "output_type": "execute_result"
    }
   ],
   "source": [
    "df['class'].value_counts()"
   ]
  },
  {
   "cell_type": "markdown",
   "id": "e26b1da0",
   "metadata": {
    "papermill": {
     "duration": 0.009764,
     "end_time": "2024-09-10T17:01:03.565818",
     "exception": false,
     "start_time": "2024-09-10T17:01:03.556054",
     "status": "completed"
    },
    "tags": []
   },
   "source": [
    "## 7_Conmvert the column to the numerical values"
   ]
  },
  {
   "cell_type": "code",
   "execution_count": 6,
   "id": "558e3a45",
   "metadata": {
    "execution": {
     "iopub.execute_input": "2024-09-10T17:01:03.588235Z",
     "iopub.status.busy": "2024-09-10T17:01:03.587758Z",
     "iopub.status.idle": "2024-09-10T17:01:03.599625Z",
     "shell.execute_reply": "2024-09-10T17:01:03.598336Z"
    },
    "papermill": {
     "duration": 0.026262,
     "end_time": "2024-09-10T17:01:03.602394",
     "exception": false,
     "start_time": "2024-09-10T17:01:03.576132",
     "status": "completed"
    },
    "tags": []
   },
   "outputs": [],
   "source": [
    "label_mapping = {\n",
    "    'BigRoom' : 0,\n",
    "    'HardDance' : 1,\n",
    "    'Techno' : 2,\n",
    "    'TechHouse' : 3,\n",
    "    'ReggaeDub' : 4,\n",
    "    'PsyTrance' : 5,\n",
    "    'ProgressiveHouse' : 6,\n",
    "    'Minimal' : 7,\n",
    "    'IndieDanceNuDisco' : 8,\n",
    "    'House' : 9,\n",
    "    'HipHop' : 10,\n",
    "    'HardcoreHardTechno' : 11,\n",
    "    'Breaks' : 12,\n",
    "    'GlitchHop' : 13,\n",
    "    'FutureHouse' : 14,\n",
    "    'FunkRAndB' : 15,\n",
    "    'ElectronicaDowntempo' : 16,\n",
    "    'ElectroHouse' : 17,\n",
    "    'Dubstep' : 18,\n",
    "    'DrumAndBass' : 19,\n",
    "    'DeepHouse' : 20,\n",
    "    'Dance' : 21,\n",
    "    'Trance' : 22\n",
    "}\n",
    "# Map the labels to their respective categories\n",
    "df['label_class']=df['class'].map(label_mapping)"
   ]
  },
  {
   "cell_type": "markdown",
   "id": "ec3b0921",
   "metadata": {
    "papermill": {
     "duration": 0.009806,
     "end_time": "2024-09-10T17:01:03.622459",
     "exception": false,
     "start_time": "2024-09-10T17:01:03.612653",
     "status": "completed"
    },
    "tags": []
   },
   "source": [
    "## 8_ Split columns as values between X and y"
   ]
  },
  {
   "cell_type": "code",
   "execution_count": 7,
   "id": "e5a21515",
   "metadata": {
    "execution": {
     "iopub.execute_input": "2024-09-10T17:01:03.645062Z",
     "iopub.status.busy": "2024-09-10T17:01:03.644028Z",
     "iopub.status.idle": "2024-09-10T17:01:03.651305Z",
     "shell.execute_reply": "2024-09-10T17:01:03.650210Z"
    },
    "papermill": {
     "duration": 0.021408,
     "end_time": "2024-09-10T17:01:03.653960",
     "exception": false,
     "start_time": "2024-09-10T17:01:03.632552",
     "status": "completed"
    },
    "tags": []
   },
   "outputs": [],
   "source": [
    "X = df.drop(columns=['class'])  # All columns except 'class' y = data['class']\n",
    "y = df['class']"
   ]
  },
  {
   "cell_type": "markdown",
   "id": "f20f4823",
   "metadata": {
    "papermill": {
     "duration": 0.009753,
     "end_time": "2024-09-10T17:01:03.674050",
     "exception": false,
     "start_time": "2024-09-10T17:01:03.664297",
     "status": "completed"
    },
    "tags": []
   },
   "source": [
    "- And we see here all the columns ut is to X except the 'class' column to the Y"
   ]
  },
  {
   "cell_type": "markdown",
   "id": "31151a8e",
   "metadata": {
    "papermill": {
     "duration": 0.009966,
     "end_time": "2024-09-10T17:01:03.694202",
     "exception": false,
     "start_time": "2024-09-10T17:01:03.684236",
     "status": "completed"
    },
    "tags": []
   },
   "source": [
    "## 9_ Split the values between X(Train and Test) and Y(Train and Test)"
   ]
  },
  {
   "cell_type": "code",
   "execution_count": 8,
   "id": "55d3dfcf",
   "metadata": {
    "execution": {
     "iopub.execute_input": "2024-09-10T17:01:03.716296Z",
     "iopub.status.busy": "2024-09-10T17:01:03.715804Z",
     "iopub.status.idle": "2024-09-10T17:01:03.725810Z",
     "shell.execute_reply": "2024-09-10T17:01:03.724813Z"
    },
    "papermill": {
     "duration": 0.023871,
     "end_time": "2024-09-10T17:01:03.728369",
     "exception": false,
     "start_time": "2024-09-10T17:01:03.704498",
     "status": "completed"
    },
    "tags": []
   },
   "outputs": [],
   "source": [
    "X_train , X_test , y_train , y_test = train_test_split(X,y,test_size=.20)"
   ]
  },
  {
   "cell_type": "markdown",
   "id": "0e5d4d85",
   "metadata": {
    "papermill": {
     "duration": 0.009623,
     "end_time": "2024-09-10T17:01:03.748050",
     "exception": false,
     "start_time": "2024-09-10T17:01:03.738427",
     "status": "completed"
    },
    "tags": []
   },
   "source": [
    "## 10_Building the model"
   ]
  },
  {
   "cell_type": "code",
   "execution_count": 9,
   "id": "7429ee7c",
   "metadata": {
    "execution": {
     "iopub.execute_input": "2024-09-10T17:01:03.770062Z",
     "iopub.status.busy": "2024-09-10T17:01:03.769582Z",
     "iopub.status.idle": "2024-09-10T17:01:03.790236Z",
     "shell.execute_reply": "2024-09-10T17:01:03.789057Z"
    },
    "papermill": {
     "duration": 0.034596,
     "end_time": "2024-09-10T17:01:03.792813",
     "exception": false,
     "start_time": "2024-09-10T17:01:03.758217",
     "status": "completed"
    },
    "tags": []
   },
   "outputs": [
    {
     "data": {
      "text/html": [
       "<style>#sk-container-id-1 {color: black;background-color: white;}#sk-container-id-1 pre{padding: 0;}#sk-container-id-1 div.sk-toggleable {background-color: white;}#sk-container-id-1 label.sk-toggleable__label {cursor: pointer;display: block;width: 100%;margin-bottom: 0;padding: 0.3em;box-sizing: border-box;text-align: center;}#sk-container-id-1 label.sk-toggleable__label-arrow:before {content: \"▸\";float: left;margin-right: 0.25em;color: #696969;}#sk-container-id-1 label.sk-toggleable__label-arrow:hover:before {color: black;}#sk-container-id-1 div.sk-estimator:hover label.sk-toggleable__label-arrow:before {color: black;}#sk-container-id-1 div.sk-toggleable__content {max-height: 0;max-width: 0;overflow: hidden;text-align: left;background-color: #f0f8ff;}#sk-container-id-1 div.sk-toggleable__content pre {margin: 0.2em;color: black;border-radius: 0.25em;background-color: #f0f8ff;}#sk-container-id-1 input.sk-toggleable__control:checked~div.sk-toggleable__content {max-height: 200px;max-width: 100%;overflow: auto;}#sk-container-id-1 input.sk-toggleable__control:checked~label.sk-toggleable__label-arrow:before {content: \"▾\";}#sk-container-id-1 div.sk-estimator input.sk-toggleable__control:checked~label.sk-toggleable__label {background-color: #d4ebff;}#sk-container-id-1 div.sk-label input.sk-toggleable__control:checked~label.sk-toggleable__label {background-color: #d4ebff;}#sk-container-id-1 input.sk-hidden--visually {border: 0;clip: rect(1px 1px 1px 1px);clip: rect(1px, 1px, 1px, 1px);height: 1px;margin: -1px;overflow: hidden;padding: 0;position: absolute;width: 1px;}#sk-container-id-1 div.sk-estimator {font-family: monospace;background-color: #f0f8ff;border: 1px dotted black;border-radius: 0.25em;box-sizing: border-box;margin-bottom: 0.5em;}#sk-container-id-1 div.sk-estimator:hover {background-color: #d4ebff;}#sk-container-id-1 div.sk-parallel-item::after {content: \"\";width: 100%;border-bottom: 1px solid gray;flex-grow: 1;}#sk-container-id-1 div.sk-label:hover label.sk-toggleable__label {background-color: #d4ebff;}#sk-container-id-1 div.sk-serial::before {content: \"\";position: absolute;border-left: 1px solid gray;box-sizing: border-box;top: 0;bottom: 0;left: 50%;z-index: 0;}#sk-container-id-1 div.sk-serial {display: flex;flex-direction: column;align-items: center;background-color: white;padding-right: 0.2em;padding-left: 0.2em;position: relative;}#sk-container-id-1 div.sk-item {position: relative;z-index: 1;}#sk-container-id-1 div.sk-parallel {display: flex;align-items: stretch;justify-content: center;background-color: white;position: relative;}#sk-container-id-1 div.sk-item::before, #sk-container-id-1 div.sk-parallel-item::before {content: \"\";position: absolute;border-left: 1px solid gray;box-sizing: border-box;top: 0;bottom: 0;left: 50%;z-index: -1;}#sk-container-id-1 div.sk-parallel-item {display: flex;flex-direction: column;z-index: 1;position: relative;background-color: white;}#sk-container-id-1 div.sk-parallel-item:first-child::after {align-self: flex-end;width: 50%;}#sk-container-id-1 div.sk-parallel-item:last-child::after {align-self: flex-start;width: 50%;}#sk-container-id-1 div.sk-parallel-item:only-child::after {width: 0;}#sk-container-id-1 div.sk-dashed-wrapped {border: 1px dashed gray;margin: 0 0.4em 0.5em 0.4em;box-sizing: border-box;padding-bottom: 0.4em;background-color: white;}#sk-container-id-1 div.sk-label label {font-family: monospace;font-weight: bold;display: inline-block;line-height: 1.2em;}#sk-container-id-1 div.sk-label-container {text-align: center;}#sk-container-id-1 div.sk-container {/* jupyter's `normalize.less` sets `[hidden] { display: none; }` but bootstrap.min.css set `[hidden] { display: none !important; }` so we also need the `!important` here to be able to override the default hidden behavior on the sphinx rendered scikit-learn.org. See: https://github.com/scikit-learn/scikit-learn/issues/21755 */display: inline-block !important;position: relative;}#sk-container-id-1 div.sk-text-repr-fallback {display: none;}</style><div id=\"sk-container-id-1\" class=\"sk-top-container\"><div class=\"sk-text-repr-fallback\"><pre>KNeighborsClassifier()</pre><b>In a Jupyter environment, please rerun this cell to show the HTML representation or trust the notebook. <br />On GitHub, the HTML representation is unable to render, please try loading this page with nbviewer.org.</b></div><div class=\"sk-container\" hidden><div class=\"sk-item\"><div class=\"sk-estimator sk-toggleable\"><input class=\"sk-toggleable__control sk-hidden--visually\" id=\"sk-estimator-id-1\" type=\"checkbox\" checked><label for=\"sk-estimator-id-1\" class=\"sk-toggleable__label sk-toggleable__label-arrow\">KNeighborsClassifier</label><div class=\"sk-toggleable__content\"><pre>KNeighborsClassifier()</pre></div></div></div></div></div>"
      ],
      "text/plain": [
       "KNeighborsClassifier()"
      ]
     },
     "execution_count": 9,
     "metadata": {},
     "output_type": "execute_result"
    }
   ],
   "source": [
    "model = KNeighborsClassifier(n_neighbors=5)\n",
    "model.fit(X_train,y_train)"
   ]
  },
  {
   "cell_type": "markdown",
   "id": "a137bb10",
   "metadata": {
    "papermill": {
     "duration": 0.010912,
     "end_time": "2024-09-10T17:01:03.814189",
     "exception": false,
     "start_time": "2024-09-10T17:01:03.803277",
     "status": "completed"
    },
    "tags": []
   },
   "source": [
    "## 11_Predict our model"
   ]
  },
  {
   "cell_type": "code",
   "execution_count": 10,
   "id": "92ed5aa9",
   "metadata": {
    "execution": {
     "iopub.execute_input": "2024-09-10T17:01:03.836674Z",
     "iopub.status.busy": "2024-09-10T17:01:03.836234Z",
     "iopub.status.idle": "2024-09-10T17:01:03.945514Z",
     "shell.execute_reply": "2024-09-10T17:01:03.944261Z"
    },
    "papermill": {
     "duration": 0.123493,
     "end_time": "2024-09-10T17:01:03.948038",
     "exception": false,
     "start_time": "2024-09-10T17:01:03.824545",
     "status": "completed"
    },
    "tags": []
   },
   "outputs": [
    {
     "data": {
      "text/plain": [
       "array(['HardcoreHardTechno', 'Dance', 'IndieDanceNuDisco', 'Breaks',\n",
       "       'ElectroHouse', 'TechHouse', 'IndieDanceNuDisco', 'FutureHouse',\n",
       "       'HipHop', 'Dance', 'Dubstep', 'ElectronicaDowntempo',\n",
       "       'DrumAndBass', 'DeepHouse', 'Minimal', 'IndieDanceNuDisco',\n",
       "       'DrumAndBass', 'FunkRAndB', 'HardDance', 'FunkRAndB', 'Trance',\n",
       "       'HardDance', 'ProgressiveHouse', 'FutureHouse', 'Dubstep',\n",
       "       'PsyTrance', 'Dubstep', 'BigRoom', 'House', 'BigRoom', 'PsyTrance',\n",
       "       'Trance', 'PsyTrance', 'Trance', 'Breaks', 'House', 'Techno',\n",
       "       'ReggaeDub', 'ProgressiveHouse', 'Dance', 'IndieDanceNuDisco',\n",
       "       'GlitchHop', 'Minimal', 'HipHop', 'PsyTrance', 'PsyTrance',\n",
       "       'GlitchHop', 'Trance', 'PsyTrance', 'FunkRAndB', 'FutureHouse',\n",
       "       'GlitchHop', 'FutureHouse', 'House', 'PsyTrance', 'HardDance',\n",
       "       'IndieDanceNuDisco', 'Dubstep', 'FunkRAndB', 'GlitchHop',\n",
       "       'ProgressiveHouse', 'Trance', 'DeepHouse', 'House', 'BigRoom',\n",
       "       'DrumAndBass', 'GlitchHop', 'Dubstep', 'IndieDanceNuDisco',\n",
       "       'HipHop', 'FutureHouse', 'ElectronicaDowntempo',\n",
       "       'HardcoreHardTechno', 'Dubstep', 'TechHouse', 'FunkRAndB',\n",
       "       'ElectronicaDowntempo', 'ReggaeDub', 'ElectroHouse', 'DeepHouse',\n",
       "       'HipHop', 'ReggaeDub', 'IndieDanceNuDisco', 'TechHouse',\n",
       "       'FutureHouse', 'FutureHouse', 'HardDance', 'Minimal',\n",
       "       'ElectroHouse', 'DrumAndBass', 'HardDance', 'HardcoreHardTechno',\n",
       "       'House', 'BigRoom', 'FunkRAndB', 'GlitchHop', 'HardcoreHardTechno',\n",
       "       'Dance', 'HardDance', 'Dubstep', 'House', 'FutureHouse',\n",
       "       'DrumAndBass', 'HipHop', 'ProgressiveHouse', 'Minimal',\n",
       "       'HardDance', 'ReggaeDub', 'House', 'Dance', 'ElectroHouse',\n",
       "       'PsyTrance', 'Dubstep', 'ElectronicaDowntempo', 'Techno', 'Trance',\n",
       "       'DeepHouse', 'IndieDanceNuDisco', 'HipHop', 'ElectronicaDowntempo',\n",
       "       'Trance', 'ElectroHouse', 'ElectronicaDowntempo', 'FunkRAndB',\n",
       "       'BigRoom', 'HipHop', 'HardDance', 'PsyTrance', 'DrumAndBass',\n",
       "       'PsyTrance', 'BigRoom', 'PsyTrance', 'Minimal', 'GlitchHop',\n",
       "       'TechHouse', 'ReggaeDub', 'Techno', 'TechHouse', 'GlitchHop',\n",
       "       'Dubstep', 'ElectronicaDowntempo', 'House', 'ProgressiveHouse',\n",
       "       'Minimal', 'DrumAndBass', 'HardDance', 'Dubstep', 'FutureHouse',\n",
       "       'PsyTrance', 'Dubstep', 'BigRoom', 'Techno', 'ReggaeDub',\n",
       "       'DrumAndBass', 'FutureHouse', 'HipHop', 'BigRoom', 'HipHop',\n",
       "       'BigRoom', 'ReggaeDub', 'FutureHouse', 'IndieDanceNuDisco',\n",
       "       'ReggaeDub', 'ProgressiveHouse', 'Techno', 'HardcoreHardTechno',\n",
       "       'BigRoom', 'Dance', 'FutureHouse', 'House', 'Trance', 'GlitchHop',\n",
       "       'DrumAndBass', 'DeepHouse', 'GlitchHop', 'ElectroHouse',\n",
       "       'HardcoreHardTechno', 'HardcoreHardTechno', 'HardcoreHardTechno',\n",
       "       'DrumAndBass', 'Breaks', 'House', 'Techno', 'DeepHouse', 'Trance',\n",
       "       'Techno', 'Breaks', 'BigRoom', 'Minimal', 'ElectroHouse',\n",
       "       'ReggaeDub', 'DrumAndBass', 'TechHouse', 'Minimal', 'HardDance',\n",
       "       'HardDance', 'Dubstep', 'ElectroHouse', 'Dance', 'GlitchHop',\n",
       "       'Dubstep', 'ProgressiveHouse', 'Techno', 'ProgressiveHouse',\n",
       "       'ElectronicaDowntempo', 'ElectronicaDowntempo', 'ProgressiveHouse',\n",
       "       'TechHouse', 'PsyTrance', 'DrumAndBass', 'BigRoom', 'Dubstep',\n",
       "       'Trance', 'HardDance', 'TechHouse', 'ElectronicaDowntempo',\n",
       "       'FutureHouse', 'PsyTrance', 'Breaks', 'ProgressiveHouse', 'Techno',\n",
       "       'HardcoreHardTechno', 'Breaks', 'Techno', 'Techno', 'Dance',\n",
       "       'HardDance', 'IndieDanceNuDisco', 'Breaks', 'Dubstep',\n",
       "       'IndieDanceNuDisco', 'FutureHouse', 'ReggaeDub',\n",
       "       'HardcoreHardTechno', 'ReggaeDub', 'Dubstep', 'ElectroHouse',\n",
       "       'ElectroHouse', 'House', 'ProgressiveHouse', 'DeepHouse',\n",
       "       'FutureHouse', 'FutureHouse', 'DrumAndBass', 'Dubstep',\n",
       "       'GlitchHop', 'Minimal', 'ProgressiveHouse', 'Minimal', 'FunkRAndB',\n",
       "       'Breaks', 'BigRoom', 'BigRoom', 'HipHop', 'House', 'GlitchHop',\n",
       "       'GlitchHop', 'ElectroHouse', 'IndieDanceNuDisco', 'Techno',\n",
       "       'Techno', 'GlitchHop', 'Dance', 'HardcoreHardTechno', 'Dance',\n",
       "       'ElectronicaDowntempo', 'FutureHouse', 'ReggaeDub', 'Dance',\n",
       "       'Dubstep', 'FunkRAndB', 'PsyTrance', 'Techno', 'House',\n",
       "       'ElectroHouse', 'ReggaeDub', 'Breaks', 'House',\n",
       "       'ElectronicaDowntempo', 'GlitchHop', 'Trance', 'Breaks', 'Minimal',\n",
       "       'ElectroHouse', 'IndieDanceNuDisco', 'HipHop', 'Trance', 'BigRoom',\n",
       "       'House', 'GlitchHop', 'ElectroHouse', 'DeepHouse', 'HipHop',\n",
       "       'House', 'Dance', 'GlitchHop', 'ProgressiveHouse', 'Techno',\n",
       "       'HardDance', 'HardcoreHardTechno', 'TechHouse', 'DrumAndBass',\n",
       "       'ReggaeDub', 'TechHouse', 'PsyTrance', 'Breaks', 'BigRoom',\n",
       "       'PsyTrance', 'Techno', 'ElectronicaDowntempo', 'ElectroHouse',\n",
       "       'Dance', 'TechHouse', 'FunkRAndB', 'DrumAndBass', 'GlitchHop',\n",
       "       'HardcoreHardTechno', 'Dubstep', 'Minimal', 'IndieDanceNuDisco',\n",
       "       'HardcoreHardTechno', 'Trance', 'House', 'DrumAndBass', 'House',\n",
       "       'ElectronicaDowntempo', 'ReggaeDub', 'DrumAndBass', 'DrumAndBass',\n",
       "       'Dubstep', 'TechHouse', 'House', 'Dance', 'ReggaeDub',\n",
       "       'ElectroHouse', 'ElectronicaDowntempo', 'FunkRAndB', 'FutureHouse',\n",
       "       'HardDance', 'HardcoreHardTechno', 'FunkRAndB', 'Breaks', 'Techno',\n",
       "       'Trance', 'PsyTrance', 'HipHop', 'Trance', 'HardDance', 'House',\n",
       "       'FunkRAndB', 'BigRoom', 'TechHouse', 'Trance', 'HipHop',\n",
       "       'ProgressiveHouse', 'DeepHouse', 'HardDance', 'DrumAndBass',\n",
       "       'FutureHouse', 'IndieDanceNuDisco', 'Trance', 'FutureHouse',\n",
       "       'DrumAndBass', 'ReggaeDub', 'TechHouse', 'Techno', 'ReggaeDub',\n",
       "       'DrumAndBass', 'ElectronicaDowntempo', 'HipHop',\n",
       "       'HardcoreHardTechno', 'HipHop', 'BigRoom', 'ProgressiveHouse',\n",
       "       'Trance', 'HardcoreHardTechno', 'ElectroHouse',\n",
       "       'HardcoreHardTechno', 'FunkRAndB', 'HardDance', 'House', 'Minimal',\n",
       "       'DeepHouse', 'Dubstep', 'Breaks', 'DeepHouse',\n",
       "       'ElectronicaDowntempo', 'ElectroHouse', 'HipHop', 'FunkRAndB',\n",
       "       'Dance', 'IndieDanceNuDisco', 'DrumAndBass', 'TechHouse',\n",
       "       'ProgressiveHouse', 'ProgressiveHouse', 'ElectronicaDowntempo',\n",
       "       'HardcoreHardTechno', 'HipHop', 'FutureHouse', 'TechHouse',\n",
       "       'Trance', 'FunkRAndB', 'HardDance', 'BigRoom', 'GlitchHop',\n",
       "       'IndieDanceNuDisco', 'GlitchHop', 'Techno', 'TechHouse', 'House',\n",
       "       'GlitchHop', 'ProgressiveHouse', 'PsyTrance', 'Trance',\n",
       "       'FutureHouse', 'Breaks', 'DeepHouse', 'DrumAndBass', 'FunkRAndB',\n",
       "       'GlitchHop', 'DrumAndBass', 'Techno', 'DrumAndBass', 'PsyTrance',\n",
       "       'TechHouse', 'ElectroHouse', 'ElectronicaDowntempo', 'ReggaeDub',\n",
       "       'FunkRAndB', 'FunkRAndB', 'GlitchHop', 'DrumAndBass', 'Minimal',\n",
       "       'Breaks', 'ElectronicaDowntempo', 'FunkRAndB', 'Dance',\n",
       "       'DrumAndBass', 'DrumAndBass', 'HipHop', 'HardDance', 'GlitchHop',\n",
       "       'DeepHouse', 'ElectronicaDowntempo', 'DeepHouse', 'DrumAndBass',\n",
       "       'ElectroHouse', 'ProgressiveHouse', 'ElectroHouse', 'Breaks',\n",
       "       'ProgressiveHouse', 'FunkRAndB', 'House', 'DrumAndBass', 'Breaks',\n",
       "       'ProgressiveHouse', 'HipHop', 'HipHop', 'HardDance'], dtype=object)"
      ]
     },
     "execution_count": 10,
     "metadata": {},
     "output_type": "execute_result"
    }
   ],
   "source": [
    "y_pred = model.predict(X_test)\n",
    "y_pred"
   ]
  },
  {
   "cell_type": "markdown",
   "id": "88dbf8c9",
   "metadata": {
    "papermill": {
     "duration": 0.010283,
     "end_time": "2024-09-10T17:01:03.969249",
     "exception": false,
     "start_time": "2024-09-10T17:01:03.958966",
     "status": "completed"
    },
    "tags": []
   },
   "source": [
    "## 12_Accuracy that recorded by model"
   ]
  },
  {
   "cell_type": "code",
   "execution_count": 11,
   "id": "324f07ec",
   "metadata": {
    "execution": {
     "iopub.execute_input": "2024-09-10T17:01:03.992235Z",
     "iopub.status.busy": "2024-09-10T17:01:03.991768Z",
     "iopub.status.idle": "2024-09-10T17:01:04.001858Z",
     "shell.execute_reply": "2024-09-10T17:01:04.000646Z"
    },
    "papermill": {
     "duration": 0.025015,
     "end_time": "2024-09-10T17:01:04.004792",
     "exception": false,
     "start_time": "2024-09-10T17:01:03.979777",
     "status": "completed"
    },
    "tags": []
   },
   "outputs": [
    {
     "data": {
      "text/plain": [
       "0.9695652173913043"
      ]
     },
     "execution_count": 11,
     "metadata": {},
     "output_type": "execute_result"
    }
   ],
   "source": [
    "from sklearn.metrics import accuracy_score\n",
    "accuracy_score(y_test,y_pred)"
   ]
  },
  {
   "cell_type": "markdown",
   "id": "31574bb8",
   "metadata": {
    "papermill": {
     "duration": 0.010492,
     "end_time": "2024-09-10T17:01:04.026352",
     "exception": false,
     "start_time": "2024-09-10T17:01:04.015860",
     "status": "completed"
    },
    "tags": []
   },
   "source": [
    "## 13_Knn values recorded"
   ]
  },
  {
   "cell_type": "code",
   "execution_count": 12,
   "id": "e2f0a74b",
   "metadata": {
    "execution": {
     "iopub.execute_input": "2024-09-10T17:01:04.050580Z",
     "iopub.status.busy": "2024-09-10T17:01:04.049368Z",
     "iopub.status.idle": "2024-09-10T17:01:04.255946Z",
     "shell.execute_reply": "2024-09-10T17:01:04.254587Z"
    },
    "papermill": {
     "duration": 0.221394,
     "end_time": "2024-09-10T17:01:04.258614",
     "exception": false,
     "start_time": "2024-09-10T17:01:04.037220",
     "status": "completed"
    },
    "tags": []
   },
   "outputs": [
    {
     "name": "stdout",
     "output_type": "stream",
     "text": [
      "The best k value is: 3\n"
     ]
    }
   ],
   "source": [
    "# Define the range of k values to test\n",
    "k_values = range(3,10,2)\n",
    "test_accuracies = []\n",
    "\n",
    "# Train the k-NN classifier with different values of k and evaluate on the test set\n",
    "for k in k_values:\n",
    "    knn = KNeighborsClassifier(n_neighbors=k)\n",
    "    knn.fit(X_train, y_train)  # Train the model\n",
    "    y_pred = knn.predict(X_test)  # Predict on the test set\n",
    "    accuracy = accuracy_score(y_test, y_pred)  # Calculate accuracy\n",
    "    test_accuracies.append(accuracy)\n",
    "\n",
    "# Determine the best k\n",
    "best_k = k_values[np.argmax(test_accuracies)]\n",
    "print(f\"The best k value is: {best_k}\")"
   ]
  },
  {
   "cell_type": "markdown",
   "id": "02f36eb9",
   "metadata": {
    "papermill": {
     "duration": 0.010867,
     "end_time": "2024-09-10T17:01:04.280814",
     "exception": false,
     "start_time": "2024-09-10T17:01:04.269947",
     "status": "completed"
    },
    "tags": []
   },
   "source": [
    "## 14_The visualization"
   ]
  },
  {
   "cell_type": "code",
   "execution_count": 13,
   "id": "98d4523f",
   "metadata": {
    "execution": {
     "iopub.execute_input": "2024-09-10T17:01:04.304717Z",
     "iopub.status.busy": "2024-09-10T17:01:04.304280Z",
     "iopub.status.idle": "2024-09-10T17:01:04.639063Z",
     "shell.execute_reply": "2024-09-10T17:01:04.637770Z"
    },
    "papermill": {
     "duration": 0.349956,
     "end_time": "2024-09-10T17:01:04.641703",
     "exception": false,
     "start_time": "2024-09-10T17:01:04.291747",
     "status": "completed"
    },
    "tags": []
   },
   "outputs": [
    {
     "data": {
      "image/png": "[encoded data removed]",
      "text/plain": [
       "<Figure size 1000x600 with 1 Axes>"
      ]
     },
     "metadata": {},
     "output_type": "display_data"
    }
   ],
   "source": [
    "# Plot the k values vs. accuracy on the test set\n",
    "plt.figure(figsize=(10, 6))\n",
    "plt.plot(k_values, test_accuracies, marker='o')\n",
    "plt.xlabel('k')\n",
    "plt.ylabel('Test Set Accuracy')\n",
    "plt.title('k-NN Varying k Value')\n",
    "plt.show()"
   ]
  }
 ],
 "metadata": {
  "kaggle": {
   "accelerator": "none",
   "dataSources": [
    {
     "datasetId": 6014,
     "sourceId": 8894,
     "sourceType": "datasetVersion"
    }
   ],
   "dockerImageVersionId": 30761,
   "isGpuEnabled": false,
   "isInternetEnabled": true,
   "language": "python",
   "sourceType": "notebook"
  },
  "kernelspec": {
   "display_name": "Python 3",
   "language": "python",
   "name": "python3"
  },
  "language_info": {
   "codemirror_mode": {
    "name": "ipython",
    "version": 3
   },
   "file_extension": ".py",
   "mimetype": "text/x-python",
   "name": "python",
   "nbconvert_exporter": "python",
   "pygments_lexer": "ipython3",
   "version": "3.10.14"
  },
  "papermill": {
   "default_parameters": {},
   "duration": 7.702969,
   "end_time": "2024-09-10T17:01:05.375694",
   "environment_variables": {},
   "exception": null,
   "input_path": "__notebook__.ipynb",
   "output_path": "__notebook__.ipynb",
   "parameters": {},
   "start_time": "2024-09-10T17:00:57.672725",
   "version": "2.6.0"
  }
 },
 "nbformat": 4,
 "nbformat_minor": 5
}
